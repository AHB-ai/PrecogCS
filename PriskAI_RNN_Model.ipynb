{
  "nbformat": 4,
  "nbformat_minor": 0,
  "metadata": {
    "colab": {
      "provenance": [],
      "gpuType": "T4"
    },
    "kernelspec": {
      "name": "python3",
      "display_name": "Python 3"
    },
    "language_info": {
      "name": "python"
    },
    "accelerator": "GPU"
  },
  "cells": [
    {
      "cell_type": "code",
      "execution_count": null,
      "metadata": {
        "colab": {
          "base_uri": "https://localhost:8080/"
        },
        "id": "JPT0FHNMcoVd",
        "outputId": "433969fe-8d76-467d-afa0-cf4cc4208a59"
      },
      "outputs": [
        {
          "output_type": "stream",
          "name": "stdout",
          "text": [
            "Collecting transformers\n",
            "  Downloading transformers-4.35.1-py3-none-any.whl (7.9 MB)\n",
            "\u001b[2K     \u001b[90m━━━━━━━━━━━━━━━━━━━━━━━━━━━━━━━━━━━━━━━━\u001b[0m \u001b[32m7.9/7.9 MB\u001b[0m \u001b[31m16.3 MB/s\u001b[0m eta \u001b[36m0:00:00\u001b[0m\n",
            "\u001b[?25hRequirement already satisfied: filelock in /usr/local/lib/python3.10/dist-packages (from transformers) (3.13.1)\n",
            "\u001b[33mWARNING: Retrying (Retry(total=4, connect=None, read=None, redirect=None, status=None)) after connection broken by 'ProtocolError('Connection aborted.', RemoteDisconnected('Remote end closed connection without response'))': /simple/huggingface-hub/\u001b[0m\u001b[33m\n",
            "\u001b[0mCollecting huggingface-hub<1.0,>=0.16.4 (from transformers)\n",
            "  Downloading huggingface_hub-0.19.1-py3-none-any.whl (311 kB)\n",
            "\u001b[2K     \u001b[90m━━━━━━━━━━━━━━━━━━━━━━━━━━━━━━━━━━━━━━━━\u001b[0m \u001b[32m311.1/311.1 kB\u001b[0m \u001b[31m38.7 MB/s\u001b[0m eta \u001b[36m0:00:00\u001b[0m\n",
            "\u001b[?25hRequirement already satisfied: numpy>=1.17 in /usr/local/lib/python3.10/dist-packages (from transformers) (1.23.5)\n",
            "Requirement already satisfied: packaging>=20.0 in /usr/local/lib/python3.10/dist-packages (from transformers) (23.2)\n",
            "Requirement already satisfied: pyyaml>=5.1 in /usr/local/lib/python3.10/dist-packages (from transformers) (6.0.1)\n",
            "Requirement already satisfied: regex!=2019.12.17 in /usr/local/lib/python3.10/dist-packages (from transformers) (2023.6.3)\n",
            "Requirement already satisfied: requests in /usr/local/lib/python3.10/dist-packages (from transformers) (2.31.0)\n",
            "Collecting tokenizers<0.15,>=0.14 (from transformers)\n",
            "  Downloading tokenizers-0.14.1-cp310-cp310-manylinux_2_17_x86_64.manylinux2014_x86_64.whl (3.8 MB)\n",
            "\u001b[2K     \u001b[90m━━━━━━━━━━━━━━━━━━━━━━━━━━━━━━━━━━━━━━━━\u001b[0m \u001b[32m3.8/3.8 MB\u001b[0m \u001b[31m38.3 MB/s\u001b[0m eta \u001b[36m0:00:00\u001b[0m\n",
            "\u001b[?25hCollecting safetensors>=0.3.1 (from transformers)\n",
            "  Downloading safetensors-0.4.0-cp310-cp310-manylinux_2_17_x86_64.manylinux2014_x86_64.whl (1.3 MB)\n",
            "\u001b[2K     \u001b[90m━━━━━━━━━━━━━━━━━━━━━━━━━━━━━━━━━━━━━━━━\u001b[0m \u001b[32m1.3/1.3 MB\u001b[0m \u001b[31m47.9 MB/s\u001b[0m eta \u001b[36m0:00:00\u001b[0m\n",
            "\u001b[?25hRequirement already satisfied: tqdm>=4.27 in /usr/local/lib/python3.10/dist-packages (from transformers) (4.66.1)\n",
            "Requirement already satisfied: fsspec>=2023.5.0 in /usr/local/lib/python3.10/dist-packages (from huggingface-hub<1.0,>=0.16.4->transformers) (2023.6.0)\n",
            "Requirement already satisfied: typing-extensions>=3.7.4.3 in /usr/local/lib/python3.10/dist-packages (from huggingface-hub<1.0,>=0.16.4->transformers) (4.5.0)\n",
            "Collecting huggingface-hub<1.0,>=0.16.4 (from transformers)\n",
            "  Downloading huggingface_hub-0.17.3-py3-none-any.whl (295 kB)\n",
            "\u001b[2K     \u001b[90m━━━━━━━━━━━━━━━━━━━━━━━━━━━━━━━━━━━━━━━━\u001b[0m \u001b[32m295.0/295.0 kB\u001b[0m \u001b[31m35.6 MB/s\u001b[0m eta \u001b[36m0:00:00\u001b[0m\n",
            "\u001b[?25hRequirement already satisfied: charset-normalizer<4,>=2 in /usr/local/lib/python3.10/dist-packages (from requests->transformers) (3.3.2)\n",
            "Requirement already satisfied: idna<4,>=2.5 in /usr/local/lib/python3.10/dist-packages (from requests->transformers) (3.4)\n",
            "Requirement already satisfied: urllib3<3,>=1.21.1 in /usr/local/lib/python3.10/dist-packages (from requests->transformers) (2.0.7)\n",
            "Requirement already satisfied: certifi>=2017.4.17 in /usr/local/lib/python3.10/dist-packages (from requests->transformers) (2023.7.22)\n",
            "Installing collected packages: safetensors, huggingface-hub, tokenizers, transformers\n",
            "Successfully installed huggingface-hub-0.17.3 safetensors-0.4.0 tokenizers-0.14.1 transformers-4.35.1\n",
            "Collecting PyPDF2\n",
            "  Downloading pypdf2-3.0.1-py3-none-any.whl (232 kB)\n",
            "\u001b[2K     \u001b[90m━━━━━━━━━━━━━━━━━━━━━━━━━━━━━━━━━━━━━━━━\u001b[0m \u001b[32m232.6/232.6 kB\u001b[0m \u001b[31m5.1 MB/s\u001b[0m eta \u001b[36m0:00:00\u001b[0m\n",
            "\u001b[?25hInstalling collected packages: PyPDF2\n",
            "Successfully installed PyPDF2-3.0.1\n",
            "Collecting pycryptodome\n",
            "  Downloading pycryptodome-3.19.0-cp35-abi3-manylinux_2_17_x86_64.manylinux2014_x86_64.whl (2.1 MB)\n",
            "\u001b[2K     \u001b[90m━━━━━━━━━━━━━━━━━━━━━━━━━━━━━━━━━━━━━━━━\u001b[0m \u001b[32m2.1/2.1 MB\u001b[0m \u001b[31m25.2 MB/s\u001b[0m eta \u001b[36m0:00:00\u001b[0m\n",
            "\u001b[?25hInstalling collected packages: pycryptodome\n",
            "Successfully installed pycryptodome-3.19.0\n",
            "Collecting pdfminer.six\n",
            "  Downloading pdfminer.six-20221105-py3-none-any.whl (5.6 MB)\n",
            "\u001b[2K     \u001b[90m━━━━━━━━━━━━━━━━━━━━━━━━━━━━━━━━━━━━━━━━\u001b[0m \u001b[32m5.6/5.6 MB\u001b[0m \u001b[31m50.2 MB/s\u001b[0m eta \u001b[36m0:00:00\u001b[0m\n",
            "\u001b[?25hRequirement already satisfied: charset-normalizer>=2.0.0 in /usr/local/lib/python3.10/dist-packages (from pdfminer.six) (3.3.2)\n",
            "Requirement already satisfied: cryptography>=36.0.0 in /usr/local/lib/python3.10/dist-packages (from pdfminer.six) (41.0.5)\n",
            "Requirement already satisfied: cffi>=1.12 in /usr/local/lib/python3.10/dist-packages (from cryptography>=36.0.0->pdfminer.six) (1.16.0)\n",
            "Requirement already satisfied: pycparser in /usr/local/lib/python3.10/dist-packages (from cffi>=1.12->cryptography>=36.0.0->pdfminer.six) (2.21)\n",
            "Installing collected packages: pdfminer.six\n",
            "Successfully installed pdfminer.six-20221105\n"
          ]
        }
      ],
      "source": [
        "%pip install transformers\n",
        "%pip install PyPDF2\n",
        "%pip install pycryptodome\n",
        "%pip install pdfminer.six"
      ]
    },
    {
      "cell_type": "code",
      "source": [
        "%pip show pycryptodome"
      ],
      "metadata": {
        "colab": {
          "base_uri": "https://localhost:8080/"
        },
        "id": "6Gl4ZgPycpuI",
        "outputId": "788b9212-f862-45b1-b77e-6f44ccb4a06e"
      },
      "execution_count": null,
      "outputs": [
        {
          "output_type": "stream",
          "name": "stdout",
          "text": [
            "Name: pycryptodome\n",
            "Version: 3.19.0\n",
            "Summary: Cryptographic library for Python\n",
            "Home-page: https://www.pycryptodome.org\n",
            "Author: Helder Eijs\n",
            "Author-email: helderijs@gmail.com\n",
            "License: BSD, Public Domain\n",
            "Location: /usr/local/lib/python3.10/dist-packages\n",
            "Requires: \n",
            "Required-by: \n"
          ]
        }
      ]
    },
    {
      "cell_type": "code",
      "source": [
        "import nltk\n",
        "nltk.download('punkt')"
      ],
      "metadata": {
        "colab": {
          "base_uri": "https://localhost:8080/"
        },
        "id": "zuRZe1DYED6R",
        "outputId": "5cc84e19-ac42-4c75-f6e5-2bbc972a256d"
      },
      "execution_count": null,
      "outputs": [
        {
          "output_type": "stream",
          "name": "stderr",
          "text": [
            "[nltk_data] Downloading package punkt to /root/nltk_data...\n",
            "[nltk_data]   Unzipping tokenizers/punkt.zip.\n"
          ]
        },
        {
          "output_type": "execute_result",
          "data": {
            "text/plain": [
              "True"
            ]
          },
          "metadata": {},
          "execution_count": 3
        }
      ]
    },
    {
      "cell_type": "code",
      "source": [
        "import os\n",
        "import re\n",
        "import numpy as np\n",
        "from nltk.tokenize import sent_tokenize\n",
        "from sklearn.model_selection import train_test_split\n",
        "from transformers import BertTokenizer, BertModel\n",
        "import torch\n",
        "import PyPDF2\n",
        "from Crypto.Cipher import AES\n",
        "from pdfminer.high_level import extract_text"
      ],
      "metadata": {
        "id": "wdZqySQ9CnGB"
      },
      "execution_count": null,
      "outputs": []
    },
    {
      "cell_type": "markdown",
      "source": [
        "Granting Google Drive Access"
      ],
      "metadata": {
        "id": "NPy392ieexj0"
      }
    },
    {
      "cell_type": "code",
      "source": [
        "from google.colab import drive\n",
        "drive.mount('/content/drive')"
      ],
      "metadata": {
        "colab": {
          "base_uri": "https://localhost:8080/"
        },
        "id": "CVkoDnLNsYKk",
        "outputId": "2aa7480f-d86d-4837-ce7e-ba154f26d67c"
      },
      "execution_count": null,
      "outputs": [
        {
          "output_type": "stream",
          "name": "stdout",
          "text": [
            "Mounted at /content/drive\n"
          ]
        }
      ]
    },
    {
      "cell_type": "markdown",
      "source": [
        "Extract Text From PDF"
      ],
      "metadata": {
        "id": "PUQO1AO0vrMu"
      }
    },
    {
      "cell_type": "code",
      "source": [
        "def extract_text_from_pdf(pdf_path):\n",
        "    with open(pdf_path, 'rb') as file:\n",
        "        reader = PyPDF2.PdfReader(file)\n",
        "        text = \"\"\n",
        "        if reader.is_encrypted:\n",
        "            print(f\"PDF {pdf_path} is encrypted!\")\n",
        "            return None\n",
        "        for page in reader.pages:\n",
        "            text += page.extract_text()\n",
        "    return text\n",
        "\n",
        "folder_path = \"/content/drive/Shareddrives/AHB Product Dev./PRisk.ai/SCR\"\n",
        "\n",
        "scr_texts = []\n",
        "for filename in os.listdir(folder_path):\n",
        "    if filename.endswith(\".pdf\"):\n",
        "        pdf_path = os.path.join(folder_path, filename)\n",
        "        scr_texts.append(extract_text_from_pdf(pdf_path))\n"
      ],
      "metadata": {
        "id": "dX7tPbQMvyzr",
        "colab": {
          "base_uri": "https://localhost:8080/"
        },
        "outputId": "6cfd4039-651c-4264-ffcf-2df9ce757ca5"
      },
      "execution_count": null,
      "outputs": [
        {
          "output_type": "stream",
          "name": "stdout",
          "text": [
            "PDF /content/drive/MyDrive/PRisk.ai/SCR/david_serious_case_review_-_april_2021.pdf is encrypted!\n"
          ]
        }
      ]
    },
    {
      "cell_type": "markdown",
      "source": [
        "Auto-synthetic Labelling"
      ],
      "metadata": {
        "id": "Vnir1bHGLeZe"
      }
    },
    {
      "cell_type": "code",
      "source": [
        "all_sentences = []\n",
        "for text in scr_texts:\n",
        "    if text is None:\n",
        "      print(\"Replace None with an empty string.\")\n",
        "      text = \"\"\n",
        "    sentences = sent_tokenize(text)\n",
        "    all_sentences.extend(sentences)\n",
        "\n",
        "high_risk_keywords = [\"abuse\", \"hurt\", \"injury\", \"danger\", \"violence\", \"neglect\", \"severe\",\n",
        "                      \"serious harm\", \"Parental substance abuse\", \"alcohol\", \"new partner\", \"remarried\",\n",
        "                      \"amphetamine\", \"drugs\", \"bruise\", \"assaulted\", \"Domestic Violence\",\n",
        "                      \"Parental mental health problems\",\"Parental unemployment\", \"Parental homelessness\",\n",
        "                      \"Family history of child abuse or neglect\", \"Child is isolated from family and friends\",\n",
        "                      \"Child is living in poverty\",\"Child is exposed to violence or drugs in the community\"]\n",
        "\n",
        "medium_risk_keywords = [\"warning\", \"concern\", \"alert\", \"potential harm\", \"risk\", \"caution\",\n",
        "                        \"suspicion\", \"house moves\", \"migration\",\"malnourished\", \"weight loss\",\n",
        "                        \"bad odour\", \"school moves\",\"Parental stress\",\"Parental financial difficulties\",\n",
        "                        \"Parental lack of social support\",\"Child is experiencing academic difficulties\",\n",
        "                        \"Child is experiencing behavioral problems\",\"Child is frequently absent from school\",\n",
        "                        \"Child is frequently moving homes\",\"Child is living in a dangerous neighborhood\"]\n",
        "\n",
        "\n",
        "def assign_sentence_label(sentence):\n",
        "    for keyword in high_risk_keywords:\n",
        "        if keyword in sentence.lower():\n",
        "            return 2  # High risk\n",
        "    for keyword in medium_risk_keywords:\n",
        "        if keyword in sentence.lower():\n",
        "            return 1  # Medium risk\n",
        "    return 0  # Low risk\n",
        "\n",
        "sentence_labels = [assign_sentence_label(sent) for sent in all_sentences]"
      ],
      "metadata": {
        "id": "_BVCo5shDcI5",
        "colab": {
          "base_uri": "https://localhost:8080/"
        },
        "outputId": "b0ff210b-140d-41a2-c5c8-e44d4b2a058c"
      },
      "execution_count": null,
      "outputs": [
        {
          "output_type": "stream",
          "name": "stdout",
          "text": [
            "Replace None with an empty string.\n",
            "Replace None with an empty string.\n"
          ]
        }
      ]
    },
    {
      "cell_type": "markdown",
      "source": [
        "Import BERT Transformer and Obtain Embeddings"
      ],
      "metadata": {
        "id": "7I9AzcnyENdw"
      }
    },
    {
      "cell_type": "code",
      "source": [
        "tokenizer = BertTokenizer.from_pretrained('bert-base-uncased')\n",
        "model = BertModel.from_pretrained('bert-base-uncased')\n",
        "\n",
        "def get_bert_embeddings_for_sentences(sentences, batch_size=8):\n",
        "    cls_embeddings = []\n",
        "    for i in range(0, len(sentences), batch_size):\n",
        "        batch_sentences = sentences[i:i + batch_size]\n",
        "        inputs = tokenizer(batch_sentences, return_tensors=\"pt\", padding=True, truncation=True, max_length=512)\n",
        "        with torch.no_grad():\n",
        "            embeddings = model(**inputs).last_hidden_state\n",
        "        # Append the embedding of the [CLS] token for each sentence in the batch\n",
        "        cls_embeddings.extend(embeddings[:, 0, :].cpu().numpy())\n",
        "    return cls_embeddings\n",
        "\n",
        "sentence_embeddings = get_bert_embeddings_for_sentences(all_sentences)"
      ],
      "metadata": {
        "id": "e9IAjgMJEPnA"
      },
      "execution_count": null,
      "outputs": []
    },
    {
      "cell_type": "markdown",
      "source": [
        "Recurrent Neural Network (RNN) Modelling"
      ],
      "metadata": {
        "id": "MpLav6RJ1dE5"
      }
    },
    {
      "cell_type": "code",
      "source": [
        "import tensorflow as tf\n",
        "import numpy as np\n",
        "\n",
        "X_train, X_val, y_train, y_val = train_test_split(sentence_embeddings, sentence_labels, test_size=0.2, random_state=42)\n",
        "\n",
        "# Convert labels to numpy arrays\n",
        "y_train = np.array(y_train)\n",
        "y_val = np.array(y_val)\n",
        "\n",
        "sentence_labels = np.array(sentence_labels)\n",
        "\n",
        "# Define the RNN model for sentence-level classification\n",
        "model = tf.keras.models.Sequential([\n",
        "    tf.keras.layers.Dense(128, activation='relu', input_shape=(768,)),\n",
        "    tf.keras.layers.Dropout(0.2),\n",
        "    tf.keras.layers.Dense(64, activation='relu'),\n",
        "    tf.keras.layers.Dropout(0.2),\n",
        "    tf.keras.layers.Dense(3, activation='softmax')  # 3 classes: Low, Medium, High risk\n",
        "])\n",
        "\n",
        "model.compile(optimizer='adam', loss='sparse_categorical_crossentropy', metrics=['accuracy'])\n",
        "model.summary()"
      ],
      "metadata": {
        "colab": {
          "base_uri": "https://localhost:8080/"
        },
        "id": "7YVW894526qP",
        "outputId": "8ff3eb71-4831-4856-bc87-8a594f12cac7"
      },
      "execution_count": null,
      "outputs": [
        {
          "output_type": "stream",
          "name": "stdout",
          "text": [
            "Model: \"sequential\"\n",
            "_________________________________________________________________\n",
            " Layer (type)                Output Shape              Param #   \n",
            "=================================================================\n",
            " dense (Dense)               (None, 128)               98432     \n",
            "                                                                 \n",
            " dropout (Dropout)           (None, 128)               0         \n",
            "                                                                 \n",
            " dense_1 (Dense)             (None, 64)                8256      \n",
            "                                                                 \n",
            " dropout_1 (Dropout)         (None, 64)                0         \n",
            "                                                                 \n",
            " dense_2 (Dense)             (None, 3)                 195       \n",
            "                                                                 \n",
            "=================================================================\n",
            "Total params: 106883 (417.51 KB)\n",
            "Trainable params: 106883 (417.51 KB)\n",
            "Non-trainable params: 0 (0.00 Byte)\n",
            "_________________________________________________________________\n"
          ]
        }
      ]
    },
    {
      "cell_type": "markdown",
      "source": [
        "Model Training\n",
        "\n"
      ],
      "metadata": {
        "id": "emOwla-FJCgV"
      }
    },
    {
      "cell_type": "code",
      "source": [
        "# Define EarlyStopping and ModelCheckpoint callbacks\n",
        "early_stopping = tf.keras.callbacks.EarlyStopping(monitor='val_loss', patience=10, restore_best_weights=True)\n",
        "model_checkpoint = tf.keras.callbacks.ModelCheckpoint(\"/content/best_model.h5\", save_best_only=True)\n"
      ],
      "metadata": {
        "id": "nOlMmucVJEMs"
      },
      "execution_count": null,
      "outputs": []
    },
    {
      "cell_type": "code",
      "source": [
        "from keras import backend as K\n",
        "\n",
        "def recall_m(y_true, y_pred):\n",
        "    true_positives = K.sum(K.round(K.clip(y_true * y_pred, 0, 1)))\n",
        "    possible_positives = K.sum(K.round(K.clip(y_true, 0, 1)))\n",
        "    recall = true_positives / (possible_positives + K.epsilon())\n",
        "    return recall\n",
        "\n",
        "def precision_m(y_true, y_pred):\n",
        "    true_positives = K.sum(K.round(K.clip(y_true * y_pred, 0, 1)))\n",
        "    predicted_positives = K.sum(K.round(K.clip(y_pred, 0, 1)))\n",
        "    precision = true_positives / (predicted_positives + K.epsilon())\n",
        "    return precision\n",
        "\n",
        "def f1_m(y_true, y_pred):\n",
        "    precision = precision_m(y_true, y_pred)\n",
        "    recall = recall_m(y_true, y_pred)\n",
        "    return 2*((precision*recall)/(precision+recall+K.epsilon()))\n",
        "\n",
        "# Compile the model with the custom metrics\n",
        "model.compile(optimizer='adam', loss='sparse_categorical_crossentropy',\n",
        "              metrics=['accuracy', f1_m, precision_m, recall_m])\n"
      ],
      "metadata": {
        "id": "mNV3y1CQO_jb"
      },
      "execution_count": null,
      "outputs": []
    },
    {
      "cell_type": "code",
      "source": [
        "history = model.fit(\n",
        "    X_train, y_train,\n",
        "    validation_data=(X_val, y_val),\n",
        "    epochs=100,\n",
        "    batch_size=32,\n",
        "    verbose=1,\n",
        "    callbacks=[early_stopping, model_checkpoint]\n",
        ")"
      ],
      "metadata": {
        "colab": {
          "base_uri": "https://localhost:8080/",
          "height": 668
        },
        "id": "8YuYBnDBPy7a",
        "outputId": "c5bd4e08-e1b2-4f00-8c1d-cf4e9d42e6a7"
      },
      "execution_count": null,
      "outputs": [
        {
          "output_type": "error",
          "ename": "ValueError",
          "evalue": "ignored",
          "traceback": [
            "\u001b[0;31m---------------------------------------------------------------------------\u001b[0m",
            "\u001b[0;31mValueError\u001b[0m                                Traceback (most recent call last)",
            "\u001b[0;32m<ipython-input-17-1254c54415fc>\u001b[0m in \u001b[0;36m<cell line: 1>\u001b[0;34m()\u001b[0m\n\u001b[0;32m----> 1\u001b[0;31m history = model.fit(\n\u001b[0m\u001b[1;32m      2\u001b[0m     \u001b[0mX_train\u001b[0m\u001b[0;34m,\u001b[0m \u001b[0my_train\u001b[0m\u001b[0;34m,\u001b[0m\u001b[0;34m\u001b[0m\u001b[0;34m\u001b[0m\u001b[0m\n\u001b[1;32m      3\u001b[0m     \u001b[0mvalidation_data\u001b[0m\u001b[0;34m=\u001b[0m\u001b[0;34m(\u001b[0m\u001b[0mX_val\u001b[0m\u001b[0;34m,\u001b[0m \u001b[0my_val\u001b[0m\u001b[0;34m)\u001b[0m\u001b[0;34m,\u001b[0m\u001b[0;34m\u001b[0m\u001b[0;34m\u001b[0m\u001b[0m\n\u001b[1;32m      4\u001b[0m     \u001b[0mepochs\u001b[0m\u001b[0;34m=\u001b[0m\u001b[0;36m100\u001b[0m\u001b[0;34m,\u001b[0m\u001b[0;34m\u001b[0m\u001b[0;34m\u001b[0m\u001b[0m\n\u001b[1;32m      5\u001b[0m     \u001b[0mbatch_size\u001b[0m\u001b[0;34m=\u001b[0m\u001b[0;36m32\u001b[0m\u001b[0;34m,\u001b[0m\u001b[0;34m\u001b[0m\u001b[0;34m\u001b[0m\u001b[0m\n",
            "\u001b[0;32m/usr/local/lib/python3.10/dist-packages/keras/src/utils/traceback_utils.py\u001b[0m in \u001b[0;36merror_handler\u001b[0;34m(*args, **kwargs)\u001b[0m\n\u001b[1;32m     68\u001b[0m             \u001b[0;31m# To get the full stack trace, call:\u001b[0m\u001b[0;34m\u001b[0m\u001b[0;34m\u001b[0m\u001b[0m\n\u001b[1;32m     69\u001b[0m             \u001b[0;31m# `tf.debugging.disable_traceback_filtering()`\u001b[0m\u001b[0;34m\u001b[0m\u001b[0;34m\u001b[0m\u001b[0m\n\u001b[0;32m---> 70\u001b[0;31m             \u001b[0;32mraise\u001b[0m \u001b[0me\u001b[0m\u001b[0;34m.\u001b[0m\u001b[0mwith_traceback\u001b[0m\u001b[0;34m(\u001b[0m\u001b[0mfiltered_tb\u001b[0m\u001b[0;34m)\u001b[0m \u001b[0;32mfrom\u001b[0m \u001b[0;32mNone\u001b[0m\u001b[0;34m\u001b[0m\u001b[0;34m\u001b[0m\u001b[0m\n\u001b[0m\u001b[1;32m     71\u001b[0m         \u001b[0;32mfinally\u001b[0m\u001b[0;34m:\u001b[0m\u001b[0;34m\u001b[0m\u001b[0;34m\u001b[0m\u001b[0m\n\u001b[1;32m     72\u001b[0m             \u001b[0;32mdel\u001b[0m \u001b[0mfiltered_tb\u001b[0m\u001b[0;34m\u001b[0m\u001b[0;34m\u001b[0m\u001b[0m\n",
            "\u001b[0;32m/usr/local/lib/python3.10/dist-packages/keras/src/engine/data_adapter.py\u001b[0m in \u001b[0;36m_check_data_cardinality\u001b[0;34m(data)\u001b[0m\n\u001b[1;32m   1948\u001b[0m             )\n\u001b[1;32m   1949\u001b[0m         \u001b[0mmsg\u001b[0m \u001b[0;34m+=\u001b[0m \u001b[0;34m\"Make sure all arrays contain the same number of samples.\"\u001b[0m\u001b[0;34m\u001b[0m\u001b[0;34m\u001b[0m\u001b[0m\n\u001b[0;32m-> 1950\u001b[0;31m         \u001b[0;32mraise\u001b[0m \u001b[0mValueError\u001b[0m\u001b[0;34m(\u001b[0m\u001b[0mmsg\u001b[0m\u001b[0;34m)\u001b[0m\u001b[0;34m\u001b[0m\u001b[0;34m\u001b[0m\u001b[0m\n\u001b[0m\u001b[1;32m   1951\u001b[0m \u001b[0;34m\u001b[0m\u001b[0m\n\u001b[1;32m   1952\u001b[0m \u001b[0;34m\u001b[0m\u001b[0m\n",
            "\u001b[0;31mValueError\u001b[0m: Data cardinality is ambiguous:\n  x sizes: 768, 768, 768, 768, 768, 768, 768, 768, 768, 768, 768, 768, 768, 768, 768, 768, 768, 768, 768, 768, 768, 768, 768, 768, 768, 768, 768, 768, 768, 768, 768, 768, 768, 768, 768, 768, 768, 768, 768, 768, 768, 768, 768, 768, 768, 768, 768, 768, 768, 768, 768, 768, 768, 768, 768, 768, 768, 768, 768, 768, 768, 768, 768, 768, 768, 768, 768, 768, 768, 768, 768, 768, 768, 768, 768, 768, 768, 768, 768, 768, 768, 768, 768, 768, 768, 768, 768, 768, 768, 768, 768, 768, 768, 768, 768, 768, 768, 768, 768, 768, 768, 768, 768, 768, 768, 768, 768, 768, 768, 768, 768, 768, 768, 768, 768, 768, 768, 768, 768, 768, 768, 768, 768, 768, 768, 768, 768, 768, 768, 768, 768, 768, 768, 768, 768, 768, 768, 768, 768, 768, 768, 768, 768, 768, 768, 768, 768, 768, 768, 768, 768, 768, 768, 768, 768, 768, 768, 768, 768, 768, 768, 768, 768, 768, 768, 768, 768, 768, 768, 768, 768, 768, 768, 768, 768, 768, 768, 768, 768, 768, 768, 768, 768, 768, 768, 768, 768, 768, 768, 768, 768, 768, 768, 768, 768, 768, 768, 768, 768, 768, 768, 768, 768, 768, 768, 768, 768, 768, 768, 768, 768, 768, 768, 768, 768, 768, 768, 768, 768, 768, 768, 768, 768, 768, 768, 768, 768, 768, 768, 768, 768, 768, 768, 768, 768, 768, 768, 768, 768, 768, 768, 768, 768, 768, 768, 768, 768, 768, 768, 768, 768, 768, 768, 768, 768, 768, 768, 768, 768, 768, 768, 768, 768, 768, 768, 768, 768, 768, 768, 768, 768, 768, 768, 768, 768, 768, 768, 768, 768, 768, 768, 768, 768, 768, 768, 768, 768, 768, 768, 768, 768, 768, 768, 768, 768, 768, 768, 7...\n  y sizes: 10704\nMake sure all arrays contain the same number of samples."
          ]
        }
      ]
    },
    {
      "cell_type": "code",
      "source": [
        "import pandas as pd\n",
        "import matplotlib.pyplot as plt\n",
        "\n",
        "# Convert the training history to a DataFrame\n",
        "history_df = pd.DataFrame(history.history)\n",
        "\n",
        "# Create individual line graphs for each metric\n",
        "fig, axes = plt.subplots(nrows=2, ncols=2, figsize=(14, 10))\n",
        "\n",
        "# Plot Training Accuracy\n",
        "history_df['accuracy'].plot(ax=axes[0,0], color='blue', title=\"Training Accuracy vs. Epochs\")\n",
        "axes[0,0].set_ylabel(\"Accuracy\")\n",
        "axes[0,0].set_xlabel(\"Epochs\")\n",
        "axes[0,0].grid(True)\n",
        "\n",
        "# Plot Validation Accuracy\n",
        "history_df['val_accuracy'].plot(ax=axes[0,1], color='lightblue', title=\"Validation Accuracy vs. Epochs\")\n",
        "axes[0,1].set_ylabel(\"Validation Accuracy\")\n",
        "axes[0,1].set_xlabel(\"Epochs\")\n",
        "axes[0,1].grid(True)\n",
        "\n",
        "# Plot Training Loss\n",
        "history_df['loss'].plot(ax=axes[1,0], color='red', title=\"Training Loss vs. Epochs\")\n",
        "axes[1,0].set_ylabel(\"Loss\")\n",
        "axes[1,0].set_xlabel(\"Epochs\")\n",
        "axes[1,0].grid(True)\n",
        "\n",
        "# Plot Validation Loss\n",
        "history_df['val_loss'].plot(ax=axes[1,1], color='orange', title=\"Validation Loss vs. Epochs\")\n",
        "axes[1,1].set_ylabel(\"Validation Loss\")\n",
        "axes[1,1].set_xlabel(\"Epochs\")\n",
        "axes[1,1].grid(True)\n",
        "\n",
        "plt.tight_layout()\n",
        "plt.show()\n"
      ],
      "metadata": {
        "colab": {
          "base_uri": "https://localhost:8080/",
          "height": 811
        },
        "id": "edGWFz6xTHCA",
        "outputId": "665a64b0-e9e4-4776-8bd9-6e98d4aa9e2b"
      },
      "execution_count": null,
      "outputs": [
        {
          "output_type": "display_data",
          "data": {
            "text/plain": [
              "<Figure size 1400x1000 with 4 Axes>"
            ],
            "image/png": "[encoded data removed]"
          },
          "metadata": {}
        }
      ]
    },
    {
      "cell_type": "code",
      "source": [
        "# Convert the training history to a DataFrame\n",
        "history_df = pd.DataFrame(history.history)\n",
        "\n",
        "# Display the DataFrame\n",
        "history_df\n"
      ],
      "metadata": {
        "colab": {
          "base_uri": "https://localhost:8080/",
          "height": 457
        },
        "id": "YGG3JSqNZ2R9",
        "outputId": "f736e659-76a0-48b9-fd56-45821aaee47b"
      },
      "execution_count": null,
      "outputs": [
        {
          "output_type": "execute_result",
          "data": {
            "text/plain": [
              "        loss  accuracy      f1_m  precision_m  recall_m  val_loss  \\\n",
              "0   0.327389  0.876772  0.444957     0.280477  1.155501  0.457317   \n",
              "1   0.291533  0.884951  0.425314     0.267471  1.120307  0.435749   \n",
              "2   0.272314  0.896947  0.433243     0.274821  1.122045  0.412787   \n",
              "3   0.221255  0.922028  0.421981     0.267752  1.101007  0.537937   \n",
              "4   0.234163  0.916031  0.418064     0.263713  1.111652  0.477916   \n",
              "5   0.207800  0.923664  0.411839     0.257867  1.110080  0.507638   \n",
              "6   0.180918  0.927481  0.420391     0.263662  1.121713  0.509146   \n",
              "7   0.179642  0.931843  0.400588     0.252437  1.068599  0.467920   \n",
              "8   0.141168  0.949291  0.400007     0.251569  1.078657  0.484390   \n",
              "9   0.137860  0.950927  0.403643     0.252497  1.074973  0.529027   \n",
              "10  0.114906  0.961287  0.400931     0.249976  1.077116  0.557851   \n",
              "11  0.101984  0.963468  0.395189     0.248356  1.056089  0.605869   \n",
              "12  0.098913  0.968375  0.387803     0.242723  1.037547  0.611097   \n",
              "\n",
              "    val_accuracy  val_f1_m  val_precision_m  val_recall_m  \n",
              "0       0.845316  0.422222         0.259773      1.178016  \n",
              "1       0.834423  0.426456         0.261617      1.205423  \n",
              "2       0.834423  0.404385         0.248508      1.142804  \n",
              "3       0.786492  0.384885         0.238470      1.042698  \n",
              "4       0.849673  0.408497         0.250826      1.153042  \n",
              "5       0.830065  0.392929         0.240931      1.115661  \n",
              "6       0.840959  0.406869         0.248952      1.166772  \n",
              "7       0.838780  0.368126         0.226232      1.035106  \n",
              "8       0.843137  0.389384         0.237976      1.122857  \n",
              "9       0.832244  0.382351         0.234109      1.089153  \n",
              "10      0.849673  0.389367         0.238871      1.099630  \n",
              "11      0.840959  0.375185         0.229938      1.066190  \n",
              "12      0.840959  0.371287         0.227788      1.049921  "
            ],
            "text/html": [
              "\n",
              "  <div id=\"df-1ca57f35-ddb3-477a-8f75-f99261ec0dba\" class=\"colab-df-container\">\n",
              "    <div>\n",
              "<style scoped>\n",
              "    .dataframe tbody tr th:only-of-type {\n",
              "        vertical-align: middle;\n",
              "    }\n",
              "\n",
              "    .dataframe tbody tr th {\n",
              "        vertical-align: top;\n",
              "    }\n",
              "\n",
              "    .dataframe thead th {\n",
              "        text-align: right;\n",
              "    }\n",
              "</style>\n",
              "<table border=\"1\" class=\"dataframe\">\n",
              "  <thead>\n",
              "    <tr style=\"text-align: right;\">\n",
              "      <th></th>\n",
              "      <th>loss</th>\n",
              "      <th>accuracy</th>\n",
              "      <th>f1_m</th>\n",
              "      <th>precision_m</th>\n",
              "      <th>recall_m</th>\n",
              "      <th>val_loss</th>\n",
              "      <th>val_accuracy</th>\n",
              "      <th>val_f1_m</th>\n",
              "      <th>val_precision_m</th>\n",
              "      <th>val_recall_m</th>\n",
              "    </tr>\n",
              "  </thead>\n",
              "  <tbody>\n",
              "    <tr>\n",
              "      <th>0</th>\n",
              "      <td>0.327389</td>\n",
              "      <td>0.876772</td>\n",
              "      <td>0.444957</td>\n",
              "      <td>0.280477</td>\n",
              "      <td>1.155501</td>\n",
              "      <td>0.457317</td>\n",
              "      <td>0.845316</td>\n",
              "      <td>0.422222</td>\n",
              "      <td>0.259773</td>\n",
              "      <td>1.178016</td>\n",
              "    </tr>\n",
              "    <tr>\n",
              "      <th>1</th>\n",
              "      <td>0.291533</td>\n",
              "      <td>0.884951</td>\n",
              "      <td>0.425314</td>\n",
              "      <td>0.267471</td>\n",
              "      <td>1.120307</td>\n",
              "      <td>0.435749</td>\n",
              "      <td>0.834423</td>\n",
              "      <td>0.426456</td>\n",
              "      <td>0.261617</td>\n",
              "      <td>1.205423</td>\n",
              "    </tr>\n",
              "    <tr>\n",
              "      <th>2</th>\n",
              "      <td>0.272314</td>\n",
              "      <td>0.896947</td>\n",
              "      <td>0.433243</td>\n",
              "      <td>0.274821</td>\n",
              "      <td>1.122045</td>\n",
              "      <td>0.412787</td>\n",
              "      <td>0.834423</td>\n",
              "      <td>0.404385</td>\n",
              "      <td>0.248508</td>\n",
              "      <td>1.142804</td>\n",
              "    </tr>\n",
              "    <tr>\n",
              "      <th>3</th>\n",
              "      <td>0.221255</td>\n",
              "      <td>0.922028</td>\n",
              "      <td>0.421981</td>\n",
              "      <td>0.267752</td>\n",
              "      <td>1.101007</td>\n",
              "      <td>0.537937</td>\n",
              "      <td>0.786492</td>\n",
              "      <td>0.384885</td>\n",
              "      <td>0.238470</td>\n",
              "      <td>1.042698</td>\n",
              "    </tr>\n",
              "    <tr>\n",
              "      <th>4</th>\n",
              "      <td>0.234163</td>\n",
              "      <td>0.916031</td>\n",
              "      <td>0.418064</td>\n",
              "      <td>0.263713</td>\n",
              "      <td>1.111652</td>\n",
              "      <td>0.477916</td>\n",
              "      <td>0.849673</td>\n",
              "      <td>0.408497</td>\n",
              "      <td>0.250826</td>\n",
              "      <td>1.153042</td>\n",
              "    </tr>\n",
              "    <tr>\n",
              "      <th>5</th>\n",
              "      <td>0.207800</td>\n",
              "      <td>0.923664</td>\n",
              "      <td>0.411839</td>\n",
              "      <td>0.257867</td>\n",
              "      <td>1.110080</td>\n",
              "      <td>0.507638</td>\n",
              "      <td>0.830065</td>\n",
              "      <td>0.392929</td>\n",
              "      <td>0.240931</td>\n",
              "      <td>1.115661</td>\n",
              "    </tr>\n",
              "    <tr>\n",
              "      <th>6</th>\n",
              "      <td>0.180918</td>\n",
              "      <td>0.927481</td>\n",
              "      <td>0.420391</td>\n",
              "      <td>0.263662</td>\n",
              "      <td>1.121713</td>\n",
              "      <td>0.509146</td>\n",
              "      <td>0.840959</td>\n",
              "      <td>0.406869</td>\n",
              "      <td>0.248952</td>\n",
              "      <td>1.166772</td>\n",
              "    </tr>\n",
              "    <tr>\n",
              "      <th>7</th>\n",
              "      <td>0.179642</td>\n",
              "      <td>0.931843</td>\n",
              "      <td>0.400588</td>\n",
              "      <td>0.252437</td>\n",
              "      <td>1.068599</td>\n",
              "      <td>0.467920</td>\n",
              "      <td>0.838780</td>\n",
              "      <td>0.368126</td>\n",
              "      <td>0.226232</td>\n",
              "      <td>1.035106</td>\n",
              "    </tr>\n",
              "    <tr>\n",
              "      <th>8</th>\n",
              "      <td>0.141168</td>\n",
              "      <td>0.949291</td>\n",
              "      <td>0.400007</td>\n",
              "      <td>0.251569</td>\n",
              "      <td>1.078657</td>\n",
              "      <td>0.484390</td>\n",
              "      <td>0.843137</td>\n",
              "      <td>0.389384</td>\n",
              "      <td>0.237976</td>\n",
              "      <td>1.122857</td>\n",
              "    </tr>\n",
              "    <tr>\n",
              "      <th>9</th>\n",
              "      <td>0.137860</td>\n",
              "      <td>0.950927</td>\n",
              "      <td>0.403643</td>\n",
              "      <td>0.252497</td>\n",
              "      <td>1.074973</td>\n",
              "      <td>0.529027</td>\n",
              "      <td>0.832244</td>\n",
              "      <td>0.382351</td>\n",
              "      <td>0.234109</td>\n",
              "      <td>1.089153</td>\n",
              "    </tr>\n",
              "    <tr>\n",
              "      <th>10</th>\n",
              "      <td>0.114906</td>\n",
              "      <td>0.961287</td>\n",
              "      <td>0.400931</td>\n",
              "      <td>0.249976</td>\n",
              "      <td>1.077116</td>\n",
              "      <td>0.557851</td>\n",
              "      <td>0.849673</td>\n",
              "      <td>0.389367</td>\n",
              "      <td>0.238871</td>\n",
              "      <td>1.099630</td>\n",
              "    </tr>\n",
              "    <tr>\n",
              "      <th>11</th>\n",
              "      <td>0.101984</td>\n",
              "      <td>0.963468</td>\n",
              "      <td>0.395189</td>\n",
              "      <td>0.248356</td>\n",
              "      <td>1.056089</td>\n",
              "      <td>0.605869</td>\n",
              "      <td>0.840959</td>\n",
              "      <td>0.375185</td>\n",
              "      <td>0.229938</td>\n",
              "      <td>1.066190</td>\n",
              "    </tr>\n",
              "    <tr>\n",
              "      <th>12</th>\n",
              "      <td>0.098913</td>\n",
              "      <td>0.968375</td>\n",
              "      <td>0.387803</td>\n",
              "      <td>0.242723</td>\n",
              "      <td>1.037547</td>\n",
              "      <td>0.611097</td>\n",
              "      <td>0.840959</td>\n",
              "      <td>0.371287</td>\n",
              "      <td>0.227788</td>\n",
              "      <td>1.049921</td>\n",
              "    </tr>\n",
              "  </tbody>\n",
              "</table>\n",
              "</div>\n",
              "    <div class=\"colab-df-buttons\">\n",
              "\n",
              "  <div class=\"colab-df-container\">\n",
              "    <button class=\"colab-df-convert\" onclick=\"convertToInteractive('df-1ca57f35-ddb3-477a-8f75-f99261ec0dba')\"\n",
              "            title=\"Convert this dataframe to an interactive table.\"\n",
              "            style=\"display:none;\">\n",
              "\n",
              "  <svg xmlns=\"http://www.w3.org/2000/svg\" height=\"24px\" viewBox=\"0 -960 960 960\">\n",
              "    <path d=\"M120-120v-720h720v720H120Zm60-500h600v-160H180v160Zm220 220h160v-160H400v160Zm0 220h160v-160H400v160ZM180-400h160v-160H180v160Zm440 0h160v-160H620v160ZM180-180h160v-160H180v160Zm440 0h160v-160H620v160Z\"/>\n",
              "  </svg>\n",
              "    </button>\n",
              "\n",
              "  <style>\n",
              "    .colab-df-container {\n",
              "      display:flex;\n",
              "      gap: 12px;\n",
              "    }\n",
              "\n",
              "    .colab-df-convert {\n",
              "      background-color: #E8F0FE;\n",
              "      border: none;\n",
              "      border-radius: 50%;\n",
              "      cursor: pointer;\n",
              "      display: none;\n",
              "      fill: #1967D2;\n",
              "      height: 32px;\n",
              "      padding: 0 0 0 0;\n",
              "      width: 32px;\n",
              "    }\n",
              "\n",
              "    .colab-df-convert:hover {\n",
              "      background-color: #E2EBFA;\n",
              "      box-shadow: 0px 1px 2px rgba(60, 64, 67, 0.3), 0px 1px 3px 1px rgba(60, 64, 67, 0.15);\n",
              "      fill: #174EA6;\n",
              "    }\n",
              "\n",
              "    .colab-df-buttons div {\n",
              "      margin-bottom: 4px;\n",
              "    }\n",
              "\n",
              "    [theme=dark] .colab-df-convert {\n",
              "      background-color: #3B4455;\n",
              "      fill: #D2E3FC;\n",
              "    }\n",
              "\n",
              "    [theme=dark] .colab-df-convert:hover {\n",
              "      background-color: #434B5C;\n",
              "      box-shadow: 0px 1px 3px 1px rgba(0, 0, 0, 0.15);\n",
              "      filter: drop-shadow(0px 1px 2px rgba(0, 0, 0, 0.3));\n",
              "      fill: #FFFFFF;\n",
              "    }\n",
              "  </style>\n",
              "\n",
              "    <script>\n",
              "      const buttonEl =\n",
              "        document.querySelector('#df-1ca57f35-ddb3-477a-8f75-f99261ec0dba button.colab-df-convert');\n",
              "      buttonEl.style.display =\n",
              "        google.colab.kernel.accessAllowed ? 'block' : 'none';\n",
              "\n",
              "      async function convertToInteractive(key) {\n",
              "        const element = document.querySelector('#df-1ca57f35-ddb3-477a-8f75-f99261ec0dba');\n",
              "        const dataTable =\n",
              "          await google.colab.kernel.invokeFunction('convertToInteractive',\n",
              "                                                    [key], {});\n",
              "        if (!dataTable) return;\n",
              "\n",
              "        const docLinkHtml = 'Like what you see? Visit the ' +\n",
              "          '<a target=\"_blank\" href=https://colab.research.google.com/notebooks/data_table.ipynb>data table notebook</a>'\n",
              "          + ' to learn more about interactive tables.';\n",
              "        element.innerHTML = '';\n",
              "        dataTable['output_type'] = 'display_data';\n",
              "        await google.colab.output.renderOutput(dataTable, element);\n",
              "        const docLink = document.createElement('div');\n",
              "        docLink.innerHTML = docLinkHtml;\n",
              "        element.appendChild(docLink);\n",
              "      }\n",
              "    </script>\n",
              "  </div>\n",
              "\n",
              "\n",
              "<div id=\"df-95dbb442-014f-4553-b99c-d712ac8145dc\">\n",
              "  <button class=\"colab-df-quickchart\" onclick=\"quickchart('df-95dbb442-014f-4553-b99c-d712ac8145dc')\"\n",
              "            title=\"Suggest charts.\"\n",
              "            style=\"display:none;\">\n",
              "\n",
              "<svg xmlns=\"http://www.w3.org/2000/svg\" height=\"24px\"viewBox=\"0 0 24 24\"\n",
              "     width=\"24px\">\n",
              "    <g>\n",
              "        <path d=\"M19 3H5c-1.1 0-2 .9-2 2v14c0 1.1.9 2 2 2h14c1.1 0 2-.9 2-2V5c0-1.1-.9-2-2-2zM9 17H7v-7h2v7zm4 0h-2V7h2v10zm4 0h-2v-4h2v4z\"/>\n",
              "    </g>\n",
              "</svg>\n",
              "  </button>\n",
              "\n",
              "<style>\n",
              "  .colab-df-quickchart {\n",
              "    background-color: #E8F0FE;\n",
              "    border: none;\n",
              "    border-radius: 50%;\n",
              "    cursor: pointer;\n",
              "    display: none;\n",
              "    fill: #1967D2;\n",
              "    height: 32px;\n",
              "    padding: 0 0 0 0;\n",
              "    width: 32px;\n",
              "  }\n",
              "\n",
              "  .colab-df-quickchart:hover {\n",
              "    background-color: #E2EBFA;\n",
              "    box-shadow: 0px 1px 2px rgba(60, 64, 67, 0.3), 0px 1px 3px 1px rgba(60, 64, 67, 0.15);\n",
              "    fill: #174EA6;\n",
              "  }\n",
              "\n",
              "  [theme=dark] .colab-df-quickchart {\n",
              "    background-color: #3B4455;\n",
              "    fill: #D2E3FC;\n",
              "  }\n",
              "\n",
              "  [theme=dark] .colab-df-quickchart:hover {\n",
              "    background-color: #434B5C;\n",
              "    box-shadow: 0px 1px 3px 1px rgba(0, 0, 0, 0.15);\n",
              "    filter: drop-shadow(0px 1px 2px rgba(0, 0, 0, 0.3));\n",
              "    fill: #FFFFFF;\n",
              "  }\n",
              "</style>\n",
              "\n",
              "  <script>\n",
              "    async function quickchart(key) {\n",
              "      const charts = await google.colab.kernel.invokeFunction(\n",
              "          'suggestCharts', [key], {});\n",
              "    }\n",
              "    (() => {\n",
              "      let quickchartButtonEl =\n",
              "        document.querySelector('#df-95dbb442-014f-4553-b99c-d712ac8145dc button');\n",
              "      quickchartButtonEl.style.display =\n",
              "        google.colab.kernel.accessAllowed ? 'block' : 'none';\n",
              "    })();\n",
              "  </script>\n",
              "</div>\n",
              "    </div>\n",
              "  </div>\n"
            ]
          },
          "metadata": {},
          "execution_count": 15
        }
      ]
    },
    {
      "cell_type": "markdown",
      "source": [
        "Model Evaluation"
      ],
      "metadata": {
        "id": "y9ZBsUjacqmM"
      }
    },
    {
      "cell_type": "code",
      "source": [
        "# Evaluate the model on the validation set\n",
        "val_loss, val_accuracy, val_f1, val_precision, val_recall = model.evaluate(X_val, y_val, verbose=0)\n",
        "\n",
        "print(f\"Validation Loss: {val_loss:.4f}\")\n",
        "print(f\"Validation Accuracy: {val_accuracy:.4f}\")\n",
        "print(f\"Validation F1 Score: {val_f1:.4f}\")\n",
        "print(f\"Validation Precision: {val_precision:.4f}\")\n",
        "print(f\"Validation Recall: {val_recall:.4f}\")"
      ],
      "metadata": {
        "colab": {
          "base_uri": "https://localhost:8080/"
        },
        "id": "xvuZOWDocso0",
        "outputId": "499f5b6a-0af1-415a-e2b2-68acfff11f2f"
      },
      "execution_count": null,
      "outputs": [
        {
          "output_type": "stream",
          "name": "stdout",
          "text": [
            "Validation Loss: 0.4128\n",
            "Validation Accuracy: 0.8344\n",
            "Validation F1 Score: 0.4044\n",
            "Validation Precision: 0.2485\n",
            "Validation Recall: 1.1428\n"
          ]
        }
      ]
    },
    {
      "cell_type": "code",
      "source": [
        "from sklearn.metrics import confusion_matrix\n",
        "import seaborn as sns\n",
        "\n",
        "# Make predictions on the validation set\n",
        "y_pred = model.predict([X_val_ids, X_val_attention_mask])\n",
        "\n",
        "# Convert y_pred to class labels if it's one-hot encoded\n",
        "if len(y_pred.shape) > 1 and y_pred.shape[1] > 1:\n",
        "    y_pred_classes = np.argmax(y_pred, axis=1)\n",
        "else:\n",
        "    y_pred_classes = (y_pred > 0.5).astype(int)\n",
        "\n",
        "# Generate confusion matrix\n",
        "cm = confusion_matrix(y_val_classes, y_pred_classes)\n",
        "\n",
        "# Plot confusion matrix\n",
        "plt.figure(figsize=(8, 6))\n",
        "sns.heatmap(cm, annot=True, fmt='g', cmap='Blues', cbar=False)\n",
        "plt.xlabel('Predicted')\n",
        "plt.ylabel('Actual')\n",
        "plt.title('Confusion Matrix')\n",
        "plt.show()"
      ],
      "metadata": {
        "colab": {
          "base_uri": "https://localhost:8080/",
          "height": 245
        },
        "id": "JTzeea4Tc0U8",
        "outputId": "348763e5-98f7-4e89-a47d-9a903c25ba1e"
      },
      "execution_count": null,
      "outputs": [
        {
          "output_type": "error",
          "ename": "NameError",
          "evalue": "ignored",
          "traceback": [
            "\u001b[0;31m---------------------------------------------------------------------------\u001b[0m",
            "\u001b[0;31mNameError\u001b[0m                                 Traceback (most recent call last)",
            "\u001b[0;32m<ipython-input-18-a118616108b1>\u001b[0m in \u001b[0;36m<cell line: 5>\u001b[0;34m()\u001b[0m\n\u001b[1;32m      3\u001b[0m \u001b[0;34m\u001b[0m\u001b[0m\n\u001b[1;32m      4\u001b[0m \u001b[0;31m# Make predictions on the validation set\u001b[0m\u001b[0;34m\u001b[0m\u001b[0;34m\u001b[0m\u001b[0m\n\u001b[0;32m----> 5\u001b[0;31m \u001b[0my_pred\u001b[0m \u001b[0;34m=\u001b[0m \u001b[0mmodel\u001b[0m\u001b[0;34m.\u001b[0m\u001b[0mpredict\u001b[0m\u001b[0;34m(\u001b[0m\u001b[0;34m[\u001b[0m\u001b[0mX_val_ids\u001b[0m\u001b[0;34m,\u001b[0m \u001b[0mX_val_attention_mask\u001b[0m\u001b[0;34m]\u001b[0m\u001b[0;34m)\u001b[0m\u001b[0;34m\u001b[0m\u001b[0;34m\u001b[0m\u001b[0m\n\u001b[0m\u001b[1;32m      6\u001b[0m \u001b[0;34m\u001b[0m\u001b[0m\n\u001b[1;32m      7\u001b[0m \u001b[0;31m# Convert y_pred to class labels if it's one-hot encoded\u001b[0m\u001b[0;34m\u001b[0m\u001b[0;34m\u001b[0m\u001b[0m\n",
            "\u001b[0;31mNameError\u001b[0m: name 'X_val_ids' is not defined"
          ]
        }
      ]
    },
    {
      "cell_type": "markdown",
      "source": [
        "Save the Model"
      ],
      "metadata": {
        "id": "_BNnWmlJfOpa"
      }
    },
    {
      "cell_type": "code",
      "source": [
        "# Save the model for deployment\n",
        "model.save(\"/content/drive/Shareddrives/AHB Product Dev./PRisk.ai/priskai_rnn_model_v2.h5\")\n",
        "print(\"Model saved successfully!\")"
      ],
      "metadata": {
        "colab": {
          "base_uri": "https://localhost:8080/"
        },
        "id": "SJcgoW7IfMFq",
        "outputId": "608032f5-9a31-42e4-9cb7-f0642abad1fc"
      },
      "execution_count": null,
      "outputs": [
        {
          "output_type": "stream",
          "name": "stdout",
          "text": [
            "Model saved successfully!\n"
          ]
        }
      ]
    },
    {
      "cell_type": "markdown",
      "source": [
        "Inferencing"
      ],
      "metadata": {
        "id": "43jmQzx2gsTR"
      }
    },
    {
      "cell_type": "code",
      "source": [
        "new_text = \"Was there any instances that Daniel was observed with physical injuries?\"\n",
        "encoded_text = tokenizer.encode_plus(\n",
        "    new_text,\n",
        "    add_special_tokens=True,  # Add '[CLS]' and '[SEP]'\n",
        "    max_length=512,  # Max length to truncate/pad\n",
        "    return_attention_mask=True,  # Construct attention masks\n",
        "    return_tensors='tf',  # Return as TensorFlow tensors\n",
        "    truncation=True,  # Explicitly truncate to max length\n",
        "    padding='max_length'  # Pad to max length\n",
        ")\n",
        "input_ids = encoded_text['input_ids']\n",
        "attention_mask = encoded_text['attention_mask']\n"
      ],
      "metadata": {
        "id": "FZ0DJ8klgwpi"
      },
      "execution_count": null,
      "outputs": []
    },
    {
      "cell_type": "markdown",
      "source": [
        "Load the Model"
      ],
      "metadata": {
        "id": "6VxL_boeg3Ei"
      }
    },
    {
      "cell_type": "code",
      "source": [
        "from keras.models import load_model\n",
        "\n",
        "# Define the custom metrics functions\n",
        "def f1_m(y_true, y_pred):\n",
        "    precision = precision_m(y_true, y_pred)\n",
        "    recall = recall_m(y_true, y_pred)\n",
        "    return 2*((precision*recall)/(precision+recall+K.epsilon()))\n",
        "\n",
        "def precision_m(y_true, y_pred):\n",
        "    true_positives = K.sum(K.round(K.clip(y_true * y_pred, 0, 1)))\n",
        "    predicted_positives = K.sum(K.round(K.clip(y_pred, 0, 1)))\n",
        "    precision = true_positives / (predicted_positives + K.epsilon())\n",
        "    return precision\n",
        "\n",
        "def recall_m(y_true, y_pred):\n",
        "    true_positives = K.sum(K.round(K.clip(y_true * y_pred, 0, 1)))\n",
        "    possible_positives = K.sum(K.round(K.clip(y_true, 0, 1)))\n",
        "    recall = true_positives / (possible_positives + K.epsilon())\n",
        "    return recall\n",
        "\n",
        "# Load the model\n",
        "model = load_model(\"/content/drive/Shareddrives/AHB Product Dev./PRisk.ai/priskai_rnn_model_v2.h5\",\n",
        "                   custom_objects={'f1_m': f1_m, 'precision_m': precision_m, 'recall_m': recall_m})\n",
        "\n"
      ],
      "metadata": {
        "id": "U8KmUO54g156"
      },
      "execution_count": null,
      "outputs": []
    },
    {
      "cell_type": "markdown",
      "source": [
        "Predict"
      ],
      "metadata": {
        "id": "DvAnebAng-zq"
      }
    },
    {
      "cell_type": "code",
      "source": [
        "# Pad input_ids to shape (None, 768)\n",
        "padded_input_ids = np.pad(input_ids, ((0,0),(0,256)), mode='constant')\n",
        "\n",
        "# Predict using the padded input_ids\n",
        "prediction = model.predict(padded_input_ids)\n",
        "\n",
        "# Get the predicted class\n",
        "predicted_class = np.argmax(prediction)\n",
        "\n",
        "# Map the predicted class to its label\n",
        "risk_labels = {0: \"Low Risk\", 1: \"Medium Risk\", 2: \"High Risk\"}\n",
        "print(f\"Predicted Risk: {risk_labels[predicted_class]}\")\n",
        "\n",
        "\n",
        "\n",
        "\n"
      ],
      "metadata": {
        "colab": {
          "base_uri": "https://localhost:8080/"
        },
        "id": "9FGGR9-Mg_4y",
        "outputId": "d64c2874-5e35-44b0-d5ec-3a846e651475"
      },
      "execution_count": null,
      "outputs": [
        {
          "output_type": "stream",
          "name": "stdout",
          "text": [
            "1/1 [==============================] - 0s 32ms/step\n",
            "Predicted Risk: High Risk\n"
          ]
        }
      ]
    }
  ]
}